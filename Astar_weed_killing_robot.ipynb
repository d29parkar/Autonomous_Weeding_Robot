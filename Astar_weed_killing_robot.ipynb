{
  "nbformat": 4,
  "nbformat_minor": 0,
  "metadata": {
    "colab": {
      "provenance": []
    },
    "kernelspec": {
      "name": "python3",
      "display_name": "Python 3"
    },
    "language_info": {
      "name": "python"
    }
  },
  "cells": [
    {
      "cell_type": "code",
      "execution_count": null,
      "metadata": {
        "id": "mMFpU_KgiK42"
      },
      "outputs": [],
      "source": [
        "import math\n",
        "\n",
        "class Node:\n",
        "    def __init__(self, x, y, is_cotton_plant=False, has_weed=False):\n",
        "        self.x = x\n",
        "        self.y = y\n",
        "        self.is_cotton_plant = is_cotton_plant\n",
        "        self.has_weed = has_weed\n",
        "        self.g_score = float('inf')\n",
        "        self.f_score = float('inf')\n",
        "        self.parent = None\n",
        "\n",
        "    def __repr__(self):\n",
        "        return f'Node({self.x}, {self.y})'"
      ]
    },
    {
      "cell_type": "code",
      "source": [
        "def create_grid(width, height, cotton_spacing):\n",
        "    grid = [[0] * width for _ in range(height)]\n",
        "    ### Note i for width and j for height\n",
        "    for i in range(0, width, cotton_spacing):\n",
        "        for j in range(0, height, cotton_spacing):\n",
        "            grid[i][j] = 1\n",
        "    return grid\n",
        "\n",
        "grid = create_grid(11, 11, 2)\n",
        "grid"
      ],
      "metadata": {
        "colab": {
          "base_uri": "https://localhost:8080/"
        },
        "id": "oPRma2ONjKLv",
        "outputId": "eb80358f-913d-4bfa-c2ca-30a8e004ea39"
      },
      "execution_count": null,
      "outputs": [
        {
          "output_type": "execute_result",
          "data": {
            "text/plain": [
              "[[1, 0, 1, 0, 1, 0, 1, 0, 1, 0, 1],\n",
              " [0, 0, 0, 0, 0, 0, 0, 0, 0, 0, 0],\n",
              " [1, 0, 1, 0, 1, 0, 1, 0, 1, 0, 1],\n",
              " [0, 0, 0, 0, 0, 0, 0, 0, 0, 0, 0],\n",
              " [1, 0, 1, 0, 1, 0, 1, 0, 1, 0, 1],\n",
              " [0, 0, 0, 0, 0, 0, 0, 0, 0, 0, 0],\n",
              " [1, 0, 1, 0, 1, 0, 1, 0, 1, 0, 1],\n",
              " [0, 0, 0, 0, 0, 0, 0, 0, 0, 0, 0],\n",
              " [1, 0, 1, 0, 1, 0, 1, 0, 1, 0, 1],\n",
              " [0, 0, 0, 0, 0, 0, 0, 0, 0, 0, 0],\n",
              " [1, 0, 1, 0, 1, 0, 1, 0, 1, 0, 1]]"
            ]
          },
          "metadata": {},
          "execution_count": 19
        }
      ]
    },
    {
      "cell_type": "code",
      "source": [
        "grid[10][9]  ### starting point"
      ],
      "metadata": {
        "colab": {
          "base_uri": "https://localhost:8080/"
        },
        "id": "m-TIPtsgpbAx",
        "outputId": "ea298937-602a-4ae4-a420-09469533c9d6"
      },
      "execution_count": null,
      "outputs": [
        {
          "output_type": "execute_result",
          "data": {
            "text/plain": [
              "0"
            ]
          },
          "metadata": {},
          "execution_count": 13
        }
      ]
    },
    {
      "cell_type": "code",
      "source": [
        "from IPython.core.display import Javascript\n",
        "class Robot:\n",
        "    def __init__(self, grid, cotton_plants, start, goal):\n",
        "        self.grid = grid\n",
        "        self.width = len(grid[0])\n",
        "        self.height = len(grid)\n",
        "        self.cotton_plants = cotton_plants\n",
        "        self.start = start\n",
        "        self.goal = goal\n",
        "\n",
        "    def check_closed_list(self, x, y, closed_list):\n",
        "        for i in closed_list:\n",
        "            if i.x == x and i.y == y:\n",
        "                return False\n",
        "        return True\n",
        "\n",
        "    def get_neighbors(self, node, closed_list):\n",
        "        neighbors = []\n",
        "        for dx, dy in [(-1, 0), (1, 0), (0, -1), (0, 1)]:\n",
        "            x, y = node.x + dx, node.y + dy\n",
        "            if 0 <= x < self.width and 0 <= y < self.height:  ## sanity check whether the neighbours are in the defined grid\n",
        "                if self.check_closed_list(x, y, closed_list):    ## The neighbour should not be the visited node\n",
        "                    if self.grid[y][x] != 1:   ### this ignores all the neighbours with the cotton plant\n",
        "                        neighbors.append(Node(x, y))\n",
        "        return neighbors\n",
        "\n",
        "    def cost(self, node1, node2):    ### this cost calculates distance from the start node to the current node.\n",
        "        #print(math.sqrt((node1.x - node2.x)**2 + (node1.y - node2.y)**2))\n",
        "        return math.sqrt((node1.x - node2.x)**2 + (node1.y - node2.y)**2)\n",
        "\n",
        "    def heuristic(self, node1, node2):      ### this cost will calculate the perpendicular distance of the node from line joining actual start and goal node\n",
        "        return 10*abs(node1.y - node2.y)  #node2: goal node and node1: current node\n",
        "\n",
        "    def a_star(self, start_node, goal_node):\n",
        "        #start_node = Node(*self.start)\n",
        "        start_node.g_score = 0\n",
        "        start_node.f_score = self.heuristic(start_node, goal_node)\n",
        "        open_list = [start_node]\n",
        "        closed_list = []\n",
        "\n",
        "        i = 0\n",
        "        while open_list:\n",
        "            # print(\"i:\", i)\n",
        "            # print(\"current node:\", min(open_list, key=lambda x: x.f_score))\n",
        "            # for j in open_list:\n",
        "            #     print(\"Node:\", j, \"g_score\", j.g_score)\n",
        "            #     print(\"Node:\", j, \"f_score\", j.f_score)\n",
        "            current = min(open_list, key=lambda x: x.f_score)   #finds the node with minimum f_score in the open_list\n",
        "\n",
        "            if current.x == goal_node.x and current.y == goal_node.y:  #if the current node reaches the goal_node, that means the path has been generated\n",
        "                return self.reconstruct_path(current)   #### GOAL NODE REACHED ####\n",
        "\n",
        "            # print(\"Current Node:\", current)\n",
        "            open_list.remove(current)\n",
        "            closed_list.append(current)\n",
        "            # print(\"Open List:\", open_list)\n",
        "            # print(\"Closed List:\", closed_list)\n",
        "\n",
        "            for neighbor in self.get_neighbors(current, closed_list):\n",
        "                tentative_g_score = current.g_score + self.cost(current, neighbor) + self.cost(neighbor, self.goal)  #tentative g_score of the neighbour\n",
        "                #print(\"Neighbor:\", neighbor, \"g_score\", tentative_g_score)\n",
        "                if tentative_g_score < neighbor.g_score:\n",
        "                    neighbor.parent = current\n",
        "                    neighbor.g_score = tentative_g_score\n",
        "                    neighbor.f_score = neighbor.g_score + self.heuristic(neighbor, goal_node)\n",
        "                    if neighbor not in open_list:\n",
        "                        open_list.append(neighbor)\n",
        "            # if i==10:\n",
        "            #   break\n",
        "            i+=1\n",
        "\n",
        "\n",
        "        return None\n",
        "\n",
        "    def reconstruct_path(self, node):   ### Drawing the entire path from the current node to all its parent nodes.\n",
        "        path = [node]\n",
        "        while node.parent:\n",
        "            path.append(node.parent)\n",
        "            node = node.parent\n",
        "        # print(path)\n",
        "        return path[::-1]\n",
        "\n",
        "    def update_grid(self, node):\n",
        "        self.grid[node.y][node.x] = 0\n",
        "\n",
        "    def run(self):\n",
        "\n",
        "        start_node = self.start\n",
        "        # if start_node.x!= 0:\n",
        "        #   goal_node = Node(0, start_node.y)     #added line\n",
        "        # else:\n",
        "        #   goal_node = Node(start_node.x, self.height-1)\n",
        "\n",
        "        print(\"Start_Node:\", self.start)\n",
        "        print(\"Goal_Node:\", self.goal)\n",
        "\n",
        "        path = self.a_star(self.start, self.goal)\n",
        "        print(path)\n",
        "\n",
        "\n",
        "        # while (self.goal != start_node):\n",
        "        # # Initialize the path\n",
        "        #     path = self.a_star(start_node, goal_node)\n",
        "        #     print(\"path\")\n",
        "        #     # Move the robot along the path\n",
        "        #     for i in range(len(path) - 1):\n",
        "        #         current_node = path[i]\n",
        "        #         next_node = path[i+1]\n",
        "\n",
        "        #         # Check if there are obstacles in the way\n",
        "        #         if self.check_obstacles(current_node, next_node):  ########## USE THE ULTRASONIC DISTANCE SENSORS FOR THIS TASK #########\n",
        "        #             print(\"Obstacle detected, replanning path...\")\n",
        "        #             ########### Change the route of the robot using predefined movement for obstacle route change,\n",
        "        #             ########### and change the current node to new node on which the robot has moved to\n",
        "\n",
        "        #             new_path = self.a_star(start=(current_node, goal_node))\n",
        "        #             if new_path:\n",
        "        #                 path = path[:i] + new_path\n",
        "        #             else:\n",
        "        #                 print(\"No path found, stopping robot.\")\n",
        "        #                 return\n",
        "\n",
        "                # # Move the robot to the next node    ######### Define the move_to function that takes the current node and accordingly moves the robot to the next node.\n",
        "                # self.move_to(current_node, next_node)\n",
        "\n",
        "                # # Detect weed using the camera and update the nect_node's has weed status accordingly.\n",
        "\n",
        "                # # Cut any weeds at the current node\n",
        "                # if current_node.has_weed:\n",
        "                #     self.cut_weed(current_node)\n",
        "\n",
        "            # new_start_node = goal_node  #New start node becomes the previous goal node\n",
        "            # goal_node = start_node.x - 2, start_node.y  #The new goal node will be 2 rows to the left of the previous start node\n",
        "            # start_node = new_start_node\n",
        "            # print(path)\n",
        "\n",
        "\n",
        "        # Print a message when the task is completed\n",
        "        print(\"Task completed, all weeds have been cut!\")\n"
      ],
      "metadata": {
        "id": "ClaA0FjBjTcw"
      },
      "execution_count": null,
      "outputs": []
    },
    {
      "cell_type": "code",
      "source": [
        "grid"
      ],
      "metadata": {
        "colab": {
          "base_uri": "https://localhost:8080/"
        },
        "id": "kL4vGec4hIUd",
        "outputId": "69b4e653-b057-4461-a4be-1892ba169ac8"
      },
      "execution_count": null,
      "outputs": [
        {
          "output_type": "execute_result",
          "data": {
            "text/plain": [
              "[[1, 0, 1, 0, 1, 0, 1, 0, 1, 0, 1],\n",
              " [0, 0, 0, 0, 0, 0, 0, 0, 0, 0, 0],\n",
              " [1, 0, 1, 0, 1, 0, 1, 0, 1, 0, 1],\n",
              " [0, 0, 0, 0, 0, 0, 0, 0, 0, 0, 0],\n",
              " [1, 0, 1, 0, 1, 0, 1, 0, 1, 0, 1],\n",
              " [0, 0, 0, 0, 0, 0, 0, 0, 0, 1, 0],\n",
              " [1, 0, 1, 0, 1, 0, 1, 0, 1, 0, 1],\n",
              " [0, 0, 0, 0, 0, 0, 0, 0, 0, 0, 0],\n",
              " [1, 0, 1, 0, 1, 0, 1, 0, 1, 0, 1],\n",
              " [0, 0, 0, 0, 0, 0, 0, 0, 0, 0, 0],\n",
              " [1, 0, 1, 0, 1, 0, 1, 0, 1, 0, 1]]"
            ]
          },
          "metadata": {},
          "execution_count": 16
        }
      ]
    },
    {
      "cell_type": "code",
      "source": [
        "import numpy as np\n",
        "cotton_plants = np.where(np.array(grid) > 0)\n",
        "cotton_plants = np.array(cotton_plants).transpose().tolist()\n",
        "\n",
        "start  = Node(0, 9)\n",
        "goal = Node(10, 7)\n",
        "\n",
        "# Define the robot\n",
        "robot = Robot(grid, cotton_plants, start, goal)\n",
        "\n",
        "# Run the robot\n",
        "robot.run()"
      ],
      "metadata": {
        "id": "Rd6-2Q7Hjv9W",
        "colab": {
          "base_uri": "https://localhost:8080/"
        },
        "outputId": "f4dddac7-a2f8-4d08-8277-a92733e81620"
      },
      "execution_count": null,
      "outputs": [
        {
          "output_type": "stream",
          "name": "stdout",
          "text": [
            "Start_Node: Node(0, 9)\n",
            "Goal_Node: Node(10, 7)\n",
            "[Node(0, 9), Node(1, 9), Node(1, 8), Node(1, 7), Node(2, 7), Node(3, 7), Node(4, 7), Node(5, 7), Node(6, 7), Node(7, 7), Node(8, 7), Node(9, 7), Node(10, 7)]\n",
            "Task completed, all weeds have been cut!\n"
          ]
        }
      ]
    },
    {
      "cell_type": "code",
      "source": [],
      "metadata": {
        "id": "eXd4aA35VCt7"
      },
      "execution_count": null,
      "outputs": []
    }
  ]
}